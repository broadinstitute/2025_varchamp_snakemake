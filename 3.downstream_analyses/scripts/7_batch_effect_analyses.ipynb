{
 "cells": [
  {
   "cell_type": "markdown",
   "id": "0a3782c5-dc5d-4d88-955b-0c58493e7f46",
   "metadata": {},
   "source": [
    "# Batch Effect Investigation"
   ]
  },
  {
   "cell_type": "code",
   "execution_count": 5,
   "id": "4342aedc-1675-4333-b691-05272fc2e427",
   "metadata": {},
   "outputs": [],
   "source": [
    "# imports\n",
    "import os\n",
    "import polars as pl\n",
    "import pandas as pd\n",
    "import numpy as np\n",
    "from tqdm import tqdm\n",
    "from pathlib import Path\n",
    "import matplotlib.pyplot as plt\n",
    "import seaborn as sns\n",
    "import umap\n",
    "from sklearn.decomposition import PCA\n",
    "from sklearn.preprocessing import StandardScaler\n",
    "from functools import reduce\n",
    "import operator\n",
    "from adjustText import adjust_text\n",
    "import harmonypy as hm\n",
    "\n",
    "import sys\n",
    "sys.path.append(\"../..\")\n",
    "from img_utils import *\n",
    "# from utils import *\n",
    "\n",
    "sns.set_style(style='white')\n",
    "sns.set_context(\"notebook\", font_scale=.9)\n",
    "\n",
    "## QC-ed PQ files\n",
    "ALL_PROF_QC = PROF_DIR + \"/{batch_id}/profiles_tcdropped_filtered_var_mad_outlier.parquet\"\n",
    "PASS_QC_PROF_PQ = PROF_DIR + \"/{batch_id}/profiles_tcdropped_filtered_var_mad_outlier_featselect_filtcells.parquet\""
   ]
  },
  {
   "cell_type": "markdown",
   "id": "88518514-5a5a-475a-ba8d-6a44e33818e2",
   "metadata": {},
   "source": [
    "## 1. Loading QC info"
   ]
  },
  {
   "cell_type": "code",
   "execution_count": 7,
   "id": "e2b63698-10d7-419a-8142-2ac70278d2a5",
   "metadata": {},
   "outputs": [],
   "source": [
    "allele_meta_df = pl.DataFrame()\n",
    "allele_meta_df_dict, img_well_qc_sum_dict = {}, {}\n",
    "\n",
    "for bio_rep, bio_rep_batches in BIO_REP_BATCHES_DICT.items():\n",
    "    for batch_id in bio_rep_batches:\n",
    "        allele_meta_df_batch = pl.DataFrame()\n",
    "        platemaps = [file for file in os.listdir(PLATEMAP_DIR.format(batch_id=batch_id)) if file.endswith(\".txt\")]\n",
    "        for platemap in platemaps:\n",
    "            platemap_df = pl.read_csv(os.path.join(PLATEMAP_DIR.format(batch_id=batch_id), platemap), separator=\"\\t\", infer_schema_length=100000)\n",
    "            allele_meta_df_batch = pl.concat([allele_meta_df_batch, \n",
    "                                        platemap_df.filter((pl.col(\"node_type\").is_not_null()))], # (~pl.col(\"node_type\").is_in([\"TC\",\"NC\",\"PC\"]))&\n",
    "                                        how=\"diagonal_relaxed\").sort(\"plate_map_name\")\n",
    "            allele_meta_df_batch = allele_meta_df_batch.with_columns(pl.col(\"plate_map_name\").alias(\"plate_map\")) ## str.split('_').list.get(0).\n",
    "            # display(allele_meta_df.head())\n",
    "        allele_meta_df = pl.concat([\n",
    "            allele_meta_df,\n",
    "            allele_meta_df_batch\n",
    "        ], how=\"diagonal_relaxed\")#.sort(\"plate_map_name\") ## (~pl.col(\"node_type\").is_in([\"TC\",\"NC\",\"PC\"]))&\n",
    "    allele_meta_df_dict[bio_rep] = allele_meta_df_batch\n",
    "\n",
    "    img_well_qc_sum = pl.read_csv(f\"{IMGS_QC_METRICS_DIR}/{bio_rep}/plate-well-level_img_qc_sum.csv\")\n",
    "    img_well_qc_sum = img_well_qc_sum.with_columns(\n",
    "        pl.col(\"channel\").replace(\"DAPI\", \"DNA\").alias(\"channel\")\n",
    "    )\n",
    "    img_well_qc_sum_morph = img_well_qc_sum.filter(pl.col(\"channel\")!=\"GFP\")\n",
    "    img_well_qc_sum_morph = img_well_qc_sum_morph.group_by([\"plate\",\"well\"]).agg(\n",
    "        pl.col(\"is_bg\").max().alias(\"is_bg\"),\n",
    "        pl.col(\"s2n_ratio\").mean().alias(\"s2n_ratio\")\n",
    "    ).with_columns(pl.lit(\"Morph\").alias(\"channel\"))\n",
    "    img_well_qc_sum = pl.concat([\n",
    "        img_well_qc_sum.select(pl.col([\"plate\",\"well\",\"channel\",\"is_bg\",\"s2n_ratio\"])),\n",
    "        img_well_qc_sum_morph.select(pl.col([\"plate\",\"well\",\"channel\",\"is_bg\",\"s2n_ratio\"])),\n",
    "    ], how=\"vertical_relaxed\")\n",
    "    img_well_qc_sum_dict[bio_rep] = img_well_qc_sum"
   ]
  },
  {
   "cell_type": "code",
   "execution_count": null,
   "id": "9b048c33-cd09-4c35-945e-ec03c85e05a8",
   "metadata": {},
   "outputs": [],
   "source": []
  }
 ],
 "metadata": {
  "kernelspec": {
   "display_name": "varchamp",
   "language": "python",
   "name": "varchamp"
  },
  "language_info": {
   "codemirror_mode": {
    "name": "ipython",
    "version": 3
   },
   "file_extension": ".py",
   "mimetype": "text/x-python",
   "name": "python",
   "nbconvert_exporter": "python",
   "pygments_lexer": "ipython3",
   "version": "3.8.18"
  }
 },
 "nbformat": 4,
 "nbformat_minor": 5
}
